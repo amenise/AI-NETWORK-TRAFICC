{
  "nbformat": 4,
  "nbformat_minor": 0,
  "metadata": {
    "colab": {
      "provenance": []
    },
    "kernelspec": {
      "name": "python3",
      "display_name": "Python 3"
    },
    "language_info": {
      "name": "python"
    }
  },
  "cells": [
    {
      "cell_type": "code",
      "execution_count": 1,
      "metadata": {
        "id": "P5N8KlXJ1_G6"
      },
      "outputs": [],
      "source": [
        "!pip install -q gradio scikit-learn pandas\n"
      ]
    },
    {
      "cell_type": "code",
      "source": [
        "import pandas as pd\n",
        "\n",
        "# Simulated network traffic data (for demonstration)\n",
        "data = {\n",
        "    \"duration\": [1, 10, 0.2, 50, 5, 0.1, 0.5, 25, 100, 2],\n",
        "    \"protocol\": [0, 1, 0, 1, 0, 0, 1, 1, 1, 0],  # 0 = TCP, 1 = UDP\n",
        "    \"packet_length\": [100, 300, 50, 500, 200, 30, 70, 400, 600, 150],\n",
        "    \"src_bytes\": [200, 1000, 20, 1500, 300, 15, 50, 1100, 2000, 180],\n",
        "    \"dst_bytes\": [150, 800, 10, 1400, 250, 10, 30, 900, 1900, 160],\n",
        "    \"flag_syn\": [1, 0, 1, 0, 0, 1, 1, 0, 0, 1],\n",
        "    \"label\": [\n",
        "        \"normal\", \"malicious\", \"suspicious\", \"malicious\", \"normal\",\n",
        "        \"suspicious\", \"suspicious\", \"malicious\", \"malicious\", \"normal\"\n",
        "    ]\n",
        "}\n",
        "\n",
        "df = pd.DataFrame(data)\n"
      ],
      "metadata": {
        "id": "UifcmFuM2E2e"
      },
      "execution_count": 2,
      "outputs": []
    },
    {
      "cell_type": "code",
      "source": [
        "from sklearn.ensemble import RandomForestClassifier\n",
        "from sklearn.preprocessing import LabelEncoder\n",
        "from sklearn.model_selection import train_test_split\n",
        "from sklearn.metrics import classification_report\n",
        "\n",
        "# Encode labels\n",
        "le = LabelEncoder()\n",
        "df[\"label_encoded\"] = le.fit_transform(df[\"label\"])\n",
        "\n",
        "# Features and labels\n",
        "X = df.drop(columns=[\"label\", \"label_encoded\"])\n",
        "y = df[\"label_encoded\"]\n",
        "\n",
        "# Train-test split\n",
        "X_train, X_test, y_train, y_test = train_test_split(X, y, test_size=0.3, random_state=42)\n",
        "\n",
        "# Random Forest\n",
        "model = RandomForestClassifier(n_estimators=100, random_state=42)\n",
        "model.fit(X_train, y_train)\n",
        "\n",
        "# Evaluate\n",
        "y_pred = model.predict(X_test)\n",
        "print(\"📊 Classification Report:\\n\", classification_report(\n",
        "    y_test,\n",
        "    y_pred,\n",
        "    labels=[0, 1, 2],\n",
        "    target_names=le.classes_,\n",
        "    zero_division=0  # avoids division by zero warning\n",
        "))\n",
        "\n"
      ],
      "metadata": {
        "colab": {
          "base_uri": "https://localhost:8080/"
        },
        "id": "D8H2A8ij2JP5",
        "outputId": "873b8911-ef61-45af-ceb4-2d46d2d2ef29"
      },
      "execution_count": 4,
      "outputs": [
        {
          "output_type": "stream",
          "name": "stdout",
          "text": [
            "📊 Classification Report:\n",
            "               precision    recall  f1-score   support\n",
            "\n",
            "   malicious       1.00      1.00      1.00         2\n",
            "      normal       0.00      0.00      0.00         0\n",
            "  suspicious       1.00      1.00      1.00         1\n",
            "\n",
            "    accuracy                           1.00         3\n",
            "   macro avg       0.67      0.67      0.67         3\n",
            "weighted avg       1.00      1.00      1.00         3\n",
            "\n"
          ]
        }
      ]
    },
    {
      "cell_type": "code",
      "source": [
        "import gradio as gr\n",
        "\n",
        "def predict_traffic(duration, protocol, packet_length, src_bytes, dst_bytes, flag_syn):\n",
        "    input_data = [[duration, protocol, packet_length, src_bytes, dst_bytes, flag_syn]]\n",
        "    pred = model.predict(input_data)[0]\n",
        "    label = le.inverse_transform([pred])[0]\n",
        "    return f\"🧠 Prediction: {label.upper()}\"\n",
        "\n",
        "iface = gr.Interface(\n",
        "    fn=predict_traffic,\n",
        "    inputs=[\n",
        "        gr.Number(label=\"Duration (s)\"),\n",
        "        gr.Radio([0, 1], label=\"Protocol (0=TCP, 1=UDP)\"),\n",
        "        gr.Number(label=\"Packet Length\"),\n",
        "        gr.Number(label=\"Source Bytes\"),\n",
        "        gr.Number(label=\"Destination Bytes\"),\n",
        "        gr.Checkbox(label=\"SYN Flag\")\n",
        "    ],\n",
        "    outputs=gr.Textbox(label=\"Prediction\"),\n",
        "    title=\"AI Network Traffic Classifier\",\n",
        "    description=\"Enter network packet features and detect if it's Normal, Suspicious, or Malicious.\"\n",
        ")\n",
        "\n",
        "iface.launch()\n"
      ],
      "metadata": {
        "colab": {
          "base_uri": "https://localhost:8080/",
          "height": 646
        },
        "id": "tbusYzjm22kQ",
        "outputId": "59ac974f-c429-4aec-a5ae-b10dc8ce467b"
      },
      "execution_count": 5,
      "outputs": [
        {
          "output_type": "stream",
          "name": "stdout",
          "text": [
            "It looks like you are running Gradio on a hosted a Jupyter notebook. For the Gradio app to work, sharing must be enabled. Automatically setting `share=True` (you can turn this off by setting `share=False` in `launch()` explicitly).\n",
            "\n",
            "Colab notebook detected. To show errors in colab notebook, set debug=True in launch()\n",
            "* Running on public URL: https://8e260ca881770ee90a.gradio.live\n",
            "\n",
            "This share link expires in 1 week. For free permanent hosting and GPU upgrades, run `gradio deploy` from the terminal in the working directory to deploy to Hugging Face Spaces (https://huggingface.co/spaces)\n"
          ]
        },
        {
          "output_type": "display_data",
          "data": {
            "text/plain": [
              "<IPython.core.display.HTML object>"
            ],
            "text/html": [
              "<div><iframe src=\"https://8e260ca881770ee90a.gradio.live\" width=\"100%\" height=\"500\" allow=\"autoplay; camera; microphone; clipboard-read; clipboard-write;\" frameborder=\"0\" allowfullscreen></iframe></div>"
            ]
          },
          "metadata": {}
        },
        {
          "output_type": "execute_result",
          "data": {
            "text/plain": []
          },
          "metadata": {},
          "execution_count": 5
        }
      ]
    }
  ]
}